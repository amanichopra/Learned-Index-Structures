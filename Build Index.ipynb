{
 "cells": [
  {
   "cell_type": "code",
   "execution_count": 5,
   "metadata": {},
   "outputs": [],
   "source": [
    "from structures.b_tree import BTree, Item\n",
    "import pickle\n",
    "import numpy as np\n",
    "import bintrees\n",
    "from sklearn.linear_model import LinearRegression\n",
    "from tensorflow.keras.models import Sequential\n",
    "from tensorflow.keras.layers import Dense\n",
    "import types\n",
    "import tempfile\n",
    "import tensorflow.keras.models\n",
    "from glob import glob"
   ]
  },
  {
   "cell_type": "code",
   "execution_count": 2,
   "metadata": {},
   "outputs": [],
   "source": [
    "def make_keras_picklable():\n",
    "    def __getstate__(self):\n",
    "        model_str = \"\"\n",
    "        with tempfile.NamedTemporaryFile(suffix='.hdf5', delete=True) as fd:\n",
    "            tensorflow.keras.models.save_model(self, fd.name, overwrite=True)\n",
    "            model_str = fd.read()\n",
    "        d = { 'model_str': model_str }\n",
    "        return d\n",
    "\n",
    "    def __setstate__(self, state):\n",
    "        with tempfile.NamedTemporaryFile(suffix='.hdf5', delete=True) as fd:\n",
    "            fd.write(state['model_str'])\n",
    "            fd.flush()\n",
    "            model = keras.models.load_model(fd.name)\n",
    "        self.__dict__ = model.__dict__\n",
    "\n",
    "\n",
    "    cls = tensorflow.keras.models.Model\n",
    "    cls.__getstate__ = __getstate__\n",
    "    cls.__setstate__ = __setstate__\n",
    "\n",
    "make_keras_picklable()"
   ]
  },
  {
   "cell_type": "code",
   "execution_count": 3,
   "metadata": {},
   "outputs": [],
   "source": [
    "def get_data(path):\n",
    "    with open(path, 'rb') as f:\n",
    "        contents = pickle.load(f)\n",
    "    return contents['data'], contents['memory']\n",
    "\n",
    "def construct_b_tree(data, memory):\n",
    "    bt = BTree(2)\n",
    "    for rec, memory_loc in zip(data, memory):\n",
    "        bt.insert(Item(rec, memory_loc))\n",
    "    return bt\n",
    "\n",
    "def construct_AVL(data, memory):\n",
    "    avl = bintrees.AVLTree()\n",
    "    for rec, memory_loc in zip(data, memory):\n",
    "        avl.insert(rec, memory_loc)\n",
    "    return avl\n",
    "\n",
    "def construct_RBT(data, memory):\n",
    "    rbt = bintrees.RBTree()\n",
    "    for rec, memory_loc in zip(data, memory):\n",
    "        rbt.insert(rec, memory_loc)\n",
    "    return rbt\n",
    "\n",
    "def construct_LR(data, memory):\n",
    "    reg = LinearRegression().fit(data.reshape(1, -1), memory.reshape(1, -1))\n",
    "    return reg\n",
    "\n",
    "def construct_ANN(data, memory, epochs=10):\n",
    "    ann = Sequential()\n",
    "    ann.add(Dense(32, input_dim=1, activation='relu'))\n",
    "    ann.add(Dense(32, activation='relu'))\n",
    "    ann.add(Dense(1))\n",
    "    ann.compile(loss='mean_squared_error', optimizer='adam')\n",
    "    ann.fit(data.astype(np.float32), memory.astype(np.float32), epochs=10)\n",
    "    return ann\n",
    "    \n"
   ]
  },
  {
   "cell_type": "code",
   "execution_count": 4,
   "metadata": {},
   "outputs": [
    {
     "name": "stdout",
     "output_type": "stream",
     "text": [
      "Epoch 1/10\n",
      "348/348 [==============================] - 1s 551us/step - loss: 1092393050027685.7500\n",
      "Epoch 2/10\n",
      "348/348 [==============================] - 0s 536us/step - loss: 3815.5442\n",
      "Epoch 3/10\n",
      "348/348 [==============================] - 0s 536us/step - loss: 3682.1375\n",
      "Epoch 4/10\n",
      "348/348 [==============================] - 0s 532us/step - loss: 3957.0925\n",
      "Epoch 5/10\n",
      "348/348 [==============================] - 0s 529us/step - loss: 3992.6356\n",
      "Epoch 6/10\n",
      "348/348 [==============================] - 0s 543us/step - loss: 3788.3005\n",
      "Epoch 7/10\n",
      "348/348 [==============================] - 0s 545us/step - loss: 3951.0190\n",
      "Epoch 8/10\n",
      "348/348 [==============================] - 0s 538us/step - loss: 272438.6582\n",
      "Epoch 9/10\n",
      "348/348 [==============================] - 0s 538us/step - loss: 4651.0503\n",
      "Epoch 10/10\n",
      "348/348 [==============================] - 0s 535us/step - loss: 11374599693205.1934\n"
     ]
    }
   ],
   "source": [
    "data, memory = get_data('../Data/amzn.dat')\n",
    "\n",
    "bt = construct_b_tree(data, memory)\n",
    "avl = construct_AVL(data, memory)\n",
    "rbt = construct_RBT(data, memory)\n",
    "lr = construct_LR(data, memory)\n",
    "ann = construct_ANN(data, memory)\n",
    "\n",
    "with open('./models/models.dat', 'wb') as f:\n",
    "    mods = {'bt': bt, 'avl': avl, 'rbt': rbt, 'lr': lr, 'ann': ann}\n",
    "    pickle.dump(mods, f)"
   ]
  },
  {
   "cell_type": "code",
   "execution_count": 13,
   "metadata": {},
   "outputs": [
    {
     "data": {
      "text/plain": [
       "['lognormal', 'dat']"
      ]
     },
     "execution_count": 13,
     "metadata": {},
     "output_type": "execute_result"
    }
   ],
   "source": [
    "glob('../Data/*.dat')[0].split('/')[-1].split('.')"
   ]
  },
  {
   "cell_type": "code",
   "execution_count": null,
   "metadata": {},
   "outputs": [],
   "source": []
  }
 ],
 "metadata": {
  "kernelspec": {
   "display_name": "Python 3",
   "language": "python",
   "name": "python3"
  },
  "language_info": {
   "codemirror_mode": {
    "name": "ipython",
    "version": 3
   },
   "file_extension": ".py",
   "mimetype": "text/x-python",
   "name": "python",
   "nbconvert_exporter": "python",
   "pygments_lexer": "ipython3",
   "version": "3.8.3"
  }
 },
 "nbformat": 4,
 "nbformat_minor": 4
}
