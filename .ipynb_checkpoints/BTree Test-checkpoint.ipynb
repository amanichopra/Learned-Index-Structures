{
 "cells": [
  {
   "cell_type": "code",
   "execution_count": 1,
   "metadata": {},
   "outputs": [],
   "source": [
    "from b_tree import BTree, Item\n",
    "import pandas as pd"
   ]
  },
  {
   "cell_type": "code",
   "execution_count": 2,
   "metadata": {},
   "outputs": [
    {
     "data": {
      "text/html": [
       "<div>\n",
       "<style scoped>\n",
       "    .dataframe tbody tr th:only-of-type {\n",
       "        vertical-align: middle;\n",
       "    }\n",
       "\n",
       "    .dataframe tbody tr th {\n",
       "        vertical-align: top;\n",
       "    }\n",
       "\n",
       "    .dataframe thead th {\n",
       "        text-align: right;\n",
       "    }\n",
       "</style>\n",
       "<table border=\"1\" class=\"dataframe\">\n",
       "  <thead>\n",
       "    <tr style=\"text-align: right;\">\n",
       "      <th></th>\n",
       "      <th>userid</th>\n",
       "      <th>binary_memory</th>\n",
       "    </tr>\n",
       "  </thead>\n",
       "  <tbody>\n",
       "    <tr>\n",
       "      <th>0</th>\n",
       "      <td>2094382</td>\n",
       "      <td>1111100</td>\n",
       "    </tr>\n",
       "    <tr>\n",
       "      <th>1</th>\n",
       "      <td>1192601</td>\n",
       "      <td>1100101</td>\n",
       "    </tr>\n",
       "    <tr>\n",
       "      <th>2</th>\n",
       "      <td>2083884</td>\n",
       "      <td>10010001</td>\n",
       "    </tr>\n",
       "    <tr>\n",
       "      <th>3</th>\n",
       "      <td>1203168</td>\n",
       "      <td>1111</td>\n",
       "    </tr>\n",
       "    <tr>\n",
       "      <th>4</th>\n",
       "      <td>1733186</td>\n",
       "      <td>1111010</td>\n",
       "    </tr>\n",
       "  </tbody>\n",
       "</table>\n",
       "</div>"
      ],
      "text/plain": [
       "    userid  binary_memory\n",
       "0  2094382        1111100\n",
       "1  1192601        1100101\n",
       "2  2083884       10010001\n",
       "3  1203168           1111\n",
       "4  1733186        1111010"
      ]
     },
     "execution_count": 2,
     "metadata": {},
     "output_type": "execute_result"
    }
   ],
   "source": [
    "data = pd.read_csv('/Users/amanchopra/Documents/School/College/Fall 2021/CS 490/Final Project/Data/facebook_user.csv')\n",
    "data.head()"
   ]
  },
  {
   "cell_type": "code",
   "execution_count": 3,
   "metadata": {},
   "outputs": [],
   "source": [
    "bt = BTree(2)"
   ]
  },
  {
   "cell_type": "code",
   "execution_count": 4,
   "metadata": {},
   "outputs": [],
   "source": [
    "for ind, row in data.head(20).iterrows():\n",
    "    bt.insert(Item(row['userid'], row['binary_memory']))"
   ]
  },
  {
   "cell_type": "code",
   "execution_count": 6,
   "metadata": {
    "scrolled": false
   },
   "outputs": [
    {
     "name": "stdout",
     "output_type": "stream",
     "text": [
      "[{Key: 1680361, Value: 1111110}] \n",
      "[{Key: 1136133, Value: 1010010}, {Key: 1203168, Value: 1111}, {Key: 1524765, Value: 1011001}] [{Key: 1733186, Value: 1111010}, {Key: 2083884, Value: 10010001}] \n",
      "[{Key: 1001768, Value: 1001101}, {Key: 1020296, Value: 1001101}] [{Key: 1192601, Value: 1100101}] [{Key: 1365174, Value: 10110}, {Key: 1470850, Value: 11010101}] [{Key: 1537661, Value: 11111101}, {Key: 1612453, Value: 1001010}] [{Key: 1704433, Value: 10110011}, {Key: 1712567, Value: 1011000}] [{Key: 1751722, Value: 11010}, {Key: 1918584, Value: 10111}, {Key: 1932519, Value: 11111110}] [{Key: 2094382, Value: 1111100}, {Key: 2104073, Value: 11011100}] \n"
     ]
    }
   ],
   "source": [
    "bt.print_order(visual=False)"
   ]
  }
 ],
 "metadata": {
  "kernelspec": {
   "display_name": "Python 3",
   "language": "python",
   "name": "python3"
  },
  "language_info": {
   "codemirror_mode": {
    "name": "ipython",
    "version": 3
   },
   "file_extension": ".py",
   "mimetype": "text/x-python",
   "name": "python",
   "nbconvert_exporter": "python",
   "pygments_lexer": "ipython3",
   "version": "3.8.3"
  }
 },
 "nbformat": 4,
 "nbformat_minor": 4
}
